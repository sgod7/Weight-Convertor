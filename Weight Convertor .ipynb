{
 "cells": [
  {
   "cell_type": "code",
   "execution_count": 1,
   "id": "fccceb8a",
   "metadata": {},
   "outputs": [],
   "source": [
    "from tkinter import *\n",
    "root = Tk()\n",
    "\n",
    "def fromkg():\n",
    "    gram = float(e2_value.get())*1000\n",
    "    pound = float(e2_value.get())*2.20462\n",
    "    ounce = float(e2_value.get())*35.274\n",
    "    \n",
    "    t1.delete(\"1.0\", END)\n",
    "    t1.insert(END, gram)\n",
    "    \n",
    "    t2.delete(\"1.0\", END)\n",
    "    t2.insert(END, pound)\n",
    "    \n",
    "    t3.delete(\"1.0\", END)\n",
    "    t3.insert(END, ounce)\n",
    "    \n",
    "e1 = Label(root, text = \"Enter the weight in KG:\")\n",
    "e2_value = StringVar()\n",
    "e2 = Entry(root, textvariable = e2_value)\n",
    "e3 = Label(root, text = 'Gram')\n",
    "e4 = Label(root, text = 'Pounds')\n",
    "e5 = Label(root, text = 'Ounce')\n",
    "\n",
    "t1 = Text(root, height = 1, width = 20)\n",
    "t2 = Text(root, height = 1, width = 20)\n",
    "t3 = Text(root, height = 1, width = 20)\n",
    "\n",
    "b1 = Button(root, text = \"Convert\", command = fromkg)\n",
    "\n",
    "e1.grid(row = 0, column = 0)\n",
    "e2.grid(row = 0, column = 1)\n",
    "e3.grid(row = 1, column = 0)\n",
    "e4.grid(row = 1, column = 1)\n",
    "e5.grid(row = 1, column = 2)\n",
    "t1.grid(row = 2, column = 0)\n",
    "t2.grid(row = 2, column = 1)\n",
    "t3.grid(row = 2, column = 2)\n",
    "b1.grid(row = 0, column = 2)\n",
    "\n",
    "root.mainloop()\n",
    "\n"
   ]
  },
  {
   "cell_type": "code",
   "execution_count": null,
   "id": "faef66a2",
   "metadata": {},
   "outputs": [],
   "source": []
  }
 ],
 "metadata": {
  "kernelspec": {
   "display_name": "Python 3 (ipykernel)",
   "language": "python",
   "name": "python3"
  },
  "language_info": {
   "codemirror_mode": {
    "name": "ipython",
    "version": 3
   },
   "file_extension": ".py",
   "mimetype": "text/x-python",
   "name": "python",
   "nbconvert_exporter": "python",
   "pygments_lexer": "ipython3",
   "version": "3.9.7"
  }
 },
 "nbformat": 4,
 "nbformat_minor": 5
}
